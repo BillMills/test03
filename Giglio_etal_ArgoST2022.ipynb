{
 "cells": [
  {
   "cell_type": "code",
   "execution_count": 1,
   "metadata": {},
   "outputs": [],
   "source": [
    "#data processing\n",
    "import requests\n",
    "import numpy as np\n",
    "import pandas as pd\n",
    "from datetime import datetime, timedelta, date\n",
    "import dateutil.parser\n",
    "\n",
    "#import xarray as xr\n",
    "import os\n",
    "import time\n",
    "\n",
    "#data visualization\n",
    "%matplotlib inline\n",
    "import matplotlib.pylab as plt\n",
    "from matplotlib import ticker\n",
    "%matplotlib inline\n",
    "\n",
    "#used for map projections\n",
    "import cartopy.crs as ccrs\n",
    "import cartopy.feature as cft\n",
    "from cartopy.mpl.gridliner import LONGITUDE_FORMATTER, LATITUDE_FORMATTER\n",
    "\n",
    "# #widgets for user interaction\n",
    "# import ipywidgets as widgets\n",
    "\n",
    "import warnings\n",
    "warnings.filterwarnings('ignore')\n",
    "from dateutil import parser"
   ]
  },
  {
   "cell_type": "code",
   "execution_count": 2,
   "metadata": {},
   "outputs": [],
   "source": [
    "##### import local functions\n",
    "# for data processing\n",
    "from utilities_NSF_EC2022 import create_list_of_days,get_data_from_url, \\\n",
    "                                    check_list_of_list,check_list, check_list_of_dict, \\\n",
    "                                    get_info_from_df,get_data_for_timeRange, \\\n",
    "                                    check_error_message,polygon_lon_lat, \\\n",
    "                                    create_url, mask_QC, simple_plot, qc, interpolate #,get_metadata_for_var\n",
    "# for data visualization\n",
    "from utilities_NSF_EC2022 import set_up_map,select_color_byList,plot_locations_withColor,set_ax_label, \\\n",
    "                                 set_map_and_plot_locations_withColor"
   ]
  },
  {
   "cell_type": "code",
   "execution_count": 3,
   "metadata": {},
   "outputs": [],
   "source": [
    "# set parameters that will be used later for API queries\n",
    "\n",
    "# prefix to use with all API queries\n",
    "url_prefix = 'https://argovis-api-atoc-argovis-dev.apps.containers02.colorado.edu'\n",
    "myAPIkey   = '8a9a6fb0a7c59b1202ffee94a719b27a173774e5'\n",
    "\n",
    "# shape defining the region of interest (copy and paste from the browser, i.e. current \"shape\" parameter in the url)\n",
    "# i.e. \n",
    "# 1. visit argovis.colorado.edu\n",
    "# 2. draw a shape\n",
    "# 3. click on the purple shaded area of the region of interest (not on a dot)\n",
    "# 4. from the pop up window, go \"to Selection page\"\n",
    "# 5. from the url of the selection shape, copy the shape, i.e. [copy_all_this_inside_outer_brackets] after 'shape='\n",
    "# Example url once the shape has been drawn in step 2. above (if you visit the url, you can follow the remaining steps):\n",
    "#\n",
    "# https://argovis.colorado.edu/ng/home?mapProj=WM&presRange=%5B0,2000%5D&selectionStartDate=2022-03-09T23:40:31Z&selectionEndDate=2022-03-23T23:40:31Z&threeDayEndDate=2022-03-21T23:40:31&shapes=%5B%5B%5B22.389257,68.663028%5D,%5B17.320499,59.970225%5D,%5B11.897995,51.759644%5D,%5B-2.067321,51.759644%5D,%5B-6.331603,45.853643%5D,%5B-14.929825,51.9633%5D,%5B-37.056256,51.9633%5D,%5B-36.730509,62.960682%5D,%5B12.892522,74.365374%5D,%5B22.389257,68.663028%5D%5D%5D&includeRealtime=true&onlyBGC=false&onlyDeep=false&threeDayToggle=false\n",
    "# \n",
    "polygon = '[[68.663028,22.389257],[59.970225,17.320499],[51.759644,11.897995],[51.759644,-2.067321],[45.853643,-6.331603],[51.9633,-14.929825],[51.9633,-37.056256],[62.960682,-36.730509],[74.365374,12.892522],[68.663028,22.389257]]'\n",
    "startDate = '2018-04-27T00:00:00Z'\n",
    "endDate   = '2018-06-05T00:00:00Z'\n",
    "#\n",
    "# ###### for Giovanni\n",
    "# polygon = '[[-67.802406,20.086981],[-59.353564,20.289486],[-50.904722,20.086981],[-47.200085,-0.657769],[-53.953289,2.670715],[-60.742943,5.961994],[-67.613394,9.169258],[-67.802406,20.086981]]'\n",
    "# startDate = '2007-01-01T00:00:00Z'\n",
    "# endDate   = '2018-01-01T00:00:00Z'\n",
    "# ######\n",
    "# lon_min = -50\n",
    "# lon_max = 16\n",
    "# lat_min = -31\n",
    "# lat_max = -25\n",
    "# polygon = '[['+str(lon_min)+','+str(lat_max)+'],['+str(lon_min)+','+str(lat_min)+'],['+ \\\n",
    "#            str(lon_max)+','+str(lat_min)+'],['+str(lon_max)+','+str(lat_max)+'],['+str(lon_min)+','+str(lat_max)+']]'\n",
    "# startDate = '2011-09-25T00:00:00Z'\n",
    "# endDate   = '2011-11-01T12:00:00Z'\n",
    "polygon_lon_lat_dict = polygon_lon_lat(polygon_str=polygon)"
   ]
  },
  {
   "cell_type": "code",
   "execution_count": 4,
   "metadata": {},
   "outputs": [],
   "source": [
    "# other params\n",
    "info_to_store = ['lon','lat','date','cols_bySource','ids','woce_line']\n",
    "# plot params\n",
    "dx  = 10;dy  = 10;central_long = -30"
   ]
  },
  {
   "cell_type": "code",
   "execution_count": null,
   "metadata": {},
   "outputs": [
    {
     "name": "stdout",
     "output_type": "stream",
     "text": [
      "Number of items: 647\n",
      "https://argovis-api-atoc-argovis-dev.apps.containers02.colorado.edu/profiles?&startDate=2018-04-27T00:00:00Z&endDate=2018-06-05T23:59:59Z&polygon=[[68.663028,22.389257],[59.970225,17.320499],[51.759644,11.897995],[51.759644,-2.067321],[45.853643,-6.331603],[51.9633,-14.929825],[51.9633,-37.056256],[62.960682,-36.730509],[74.365374,12.892522],[68.663028,22.389257]]&data=temp,metadata-only&source=argo_core\n",
      "Number of items: 72\n",
      "https://argovis-api-atoc-argovis-dev.apps.containers02.colorado.edu/profiles?&startDate=2018-04-27T00:00:00Z&endDate=2018-06-05T23:59:59Z&polygon=[[68.663028,22.389257],[59.970225,17.320499],[51.759644,11.897995],[51.759644,-2.067321],[45.853643,-6.331603],[51.9633,-14.929825],[51.9633,-37.056256],[62.960682,-36.730509],[74.365374,12.892522],[68.663028,22.389257]]&data=temp,metadata-only&source=argo_bgc\n"
     ]
    }
   ],
   "source": [
    "#### EXAMPLES\n",
    "# select by source and make a plot\n",
    "source_all = ['argo_core','argo_bgc','cchdo_go-ship']\n",
    "for isource in source_all:\n",
    "    bfr_df = get_data_for_timeRange(startDate=startDate,endDate=endDate, \\\n",
    "                                url_prefix=url_prefix+'/profiles?', \\\n",
    "                                myAPIkey=myAPIkey, \\\n",
    "                                    data='temp,metadata-only', \\\n",
    "                                source=isource, \\\n",
    "                                polygon=polygon, \\\n",
    "                                dt_tag='365d',writeFlag=True)\n",
    "    if not bfr_df.empty:\n",
    "        bfr_info = get_info_from_df(df=bfr_df,info_to_store=info_to_store)\n",
    "        ###### let's plot the polygon and the profile locations color coded by source\n",
    "        set_map_and_plot_locations_withColor(lon=bfr_info['lon'],lat=bfr_info['lat'], \\\n",
    "                                     cols=bfr_info['cols_bySource'], \\\n",
    "                                     polygon_lon_lat_dict=polygon_lon_lat_dict)\n",
    "        plt.title('source: ' + isource,fontsize=28)"
   ]
  },
  {
   "cell_type": "code",
   "execution_count": null,
   "metadata": {},
   "outputs": [],
   "source": [
    "##### search all profiles in polygon for the variable combinations of interest\n",
    "# NOTE: pres is required anytime data queries are made\n",
    "datavars_all  =  ['doxy,pres'] #['temp','temperature_btl'] #\n",
    "\n",
    "for idatavars in datavars_all:\n",
    "    df = get_data_for_timeRange(startDate=startDate,endDate=endDate, \\\n",
    "                                    url_prefix=url_prefix+'/profiles?', \\\n",
    "                                    myAPIkey=myAPIkey, \\\n",
    "                                    data=idatavars+',metadata-only', \\\n",
    "                                    polygon=polygon, \\\n",
    "                                    dt_tag='100d',writeFlag=True)\n",
    "    if not df.empty:\n",
    "        if 'df_all' in locals():\n",
    "            df_all = pd.concat([df_all,df],ignore_index=True)\n",
    "        else:\n",
    "            df_all = df\n",
    "# store some info\n",
    "info_d_reg = get_info_from_df(df=df_all,info_to_store=info_to_store)\n",
    "\n",
    "# delete df_all\n",
    "del df_all"
   ]
  },
  {
   "cell_type": "code",
   "execution_count": null,
   "metadata": {},
   "outputs": [],
   "source": [
    "###### let's plot the polygon and profile locations color coded by source\n",
    "set_map_and_plot_locations_withColor(lon=info_d_reg['lon'],lat=info_d_reg['lat'], \\\n",
    "                                     cols=info_d_reg['cols_bySource'], \\\n",
    "                                     polygon_lon_lat_dict=polygon_lon_lat_dict)"
   ]
  },
  {
   "cell_type": "code",
   "execution_count": null,
   "metadata": {},
   "outputs": [],
   "source": [
    "# now search by woceline and then check what Argo profiles are nearby\n",
    "woceline  = 'I07N'\n",
    "source    = 'cchdo_go-ship'\n",
    "\n",
    "if 'df_d1' in locals():\n",
    "    del df_d1\n",
    "\n",
    "#datavars_all = ['doxy']\n",
    "\n",
    "for idatavars in datavars_all:\n",
    "    df = get_data_for_timeRange(startDate=startDate,endDate=endDate, \\\n",
    "                                    url_prefix=url_prefix+'/profiles?', \\\n",
    "                                    myAPIkey=myAPIkey, \\\n",
    "                                    data=idatavars+',metadata-only', \\\n",
    "                                    woceline=woceline, \\\n",
    "                                    dt_tag='365d',writeFlag=True)\n",
    "    if not df.empty:\n",
    "        if 'df_d1' in locals():\n",
    "            df_d1 = pd.concat([df_d1,df],ignore_index=True)\n",
    "        else:\n",
    "            df_d1 = df\n",
    "# store some info\n",
    "info_d1 = get_info_from_df(df=df_d1,info_to_store=info_to_store)"
   ]
  },
  {
   "cell_type": "code",
   "execution_count": null,
   "metadata": {},
   "outputs": [],
   "source": [
    "font = {'weight' : 'normal',\n",
    "        'size'   : 24}\n",
    "\n",
    "plt.rc('font', **font)\n",
    "set_map_and_plot_locations_withColor(lon=info_d1['lon'],lat=info_d1['lat'], \\\n",
    "                                     cols=info_d1['cols_bySource'], \\\n",
    "                                     polygon_lon_lat_dict=[])\n",
    "plt.title(woceline,fontsize=28)"
   ]
  },
  {
   "cell_type": "code",
   "execution_count": null,
   "metadata": {},
   "outputs": [],
   "source": [
    "# for a woceline of interest, plot nearby Argo profiles (store the location of the argo profiles to plot a map of locations later)\n",
    "delta_days = 3.5\n",
    "argo_source='argo_core'\n",
    "radius_km='50'\n",
    "\n",
    "# this needs to be rewritten as function\n",
    "\n",
    "if 'df_d2' in locals():\n",
    "    del df_d2\n",
    "\n",
    "lst_id_pairs_d1 = []\n",
    "lst_id_pairs_d2 = []\n",
    "\n",
    "for idatavars in datavars_all:\n",
    "    for i in np.arange(0,len(info_d1['lon'])):\n",
    "        time.sleep(.2)\n",
    "        d = get_data_for_timeRange(startDate=(datetime.strptime(info_d1['date'][i],'%Y-%m-%dT%H:%M:%SZ')- \\\n",
    "                                              timedelta(days=delta_days)).strftime('%Y-%m-%dT%H:%M:%SZ'),\n",
    "                                   endDate=(datetime.strptime(info_d1['date'][i],'%Y-%m-%dT%H:%M:%SZ')+ \\\n",
    "                                              timedelta(days=delta_days)).strftime('%Y-%m-%dT%H:%M:%SZ'), \\\n",
    "                                   myAPIkey=myAPIkey, \\\n",
    "                                   center=str(info_d1['lon'][i])+','+str(info_d1['lat'][i]), \\\n",
    "                                   radius_km=radius_km, \\\n",
    "                                   url_prefix=url_prefix+'/profiles?', \\\n",
    "                                   data=idatavars+',metadata-only', \\\n",
    "                                   source=argo_source, \\\n",
    "                                   dt_tag='365d',writeFlag=False)\n",
    "        if not d.empty:\n",
    "            #info_d2 = {**info_d2, **get_info_from_df(df=d,info_to_store=info_to_store)}\n",
    "            #list_d2 = list_d2 + [d]\n",
    "            if 'df_d2' in locals():\n",
    "                df_d2 = pd.concat([df_d2,d],ignore_index=True)\n",
    "            else:\n",
    "                df_d2 = d\n",
    "            lst_id_pairs_d2.append(d['_id'].tolist())\n",
    "            lst_id_pairs_d1.append(info_d1['ids'][i])\n",
    "#\n",
    "info_d2=get_info_from_df(df=df_d2,info_to_store=info_to_store)\n",
    "###\n"
   ]
  },
  {
   "cell_type": "code",
   "execution_count": null,
   "metadata": {},
   "outputs": [],
   "source": [
    "###### let's plot the profile locations color coded by source\n",
    "set_map_and_plot_locations_withColor(lon=info_d1['lon']+info_d2['lon'],lat=info_d1['lat']+info_d2['lat'], \\\n",
    "                                     cols=info_d1['cols_bySource']+info_d2['cols_bySource'])"
   ]
  },
  {
   "cell_type": "code",
   "execution_count": null,
   "metadata": {},
   "outputs": [],
   "source": [
    "######## compare variable of interest (if available in both sources)\n",
    "font = {'weight' : 'normal',\n",
    "        'size'   : 24}\n",
    "\n",
    "plt.rc('font', **font)\n",
    "\n",
    "col_d1 = 'k'\n",
    "col_d2 = 'r'\n",
    "\n",
    "var_d1 = 'doxy' # NOTE that we compare doxy even if up to this point we made all the plots for temperature\n",
    "var_d2 = 'doxy'\n",
    "\n",
    "mrk_sz1 = 7\n",
    "mrk_sz2 = 5\n",
    "\n",
    "mrk_type1 = '*'\n",
    "mrk_type2 = 's'\n",
    "\n",
    "presRange ='0,100'\n",
    "\n",
    "# this needs to be rewritten as function\n",
    "#\n",
    "for i in np.arange(0,len(lst_id_pairs_d1),1):\n",
    "    ids_bfr1 = lst_id_pairs_d1[i]\n",
    "    ids_bfr2 = lst_id_pairs_d2[i]\n",
    "    if isinstance(ids_bfr1,str):\n",
    "        ids_bfr1 = [ids_bfr1]\n",
    "    if isinstance(ids_bfr2,str):\n",
    "        ids_bfr2 = [ids_bfr2]\n",
    "        \n",
    "    fig = plt.figure(figsize=(20,10))\n",
    "    fig_close = True\n",
    "    \n",
    "    if 'bfr_title' in locals():\n",
    "        del bfr_title\n",
    "        \n",
    "    # plot \n",
    "    for isource in [1,2]:\n",
    "        if 'ids_bfr' in locals():\n",
    "            del ids_bfr\n",
    "        ids_bfr = eval('ids_bfr'+str(isource))\n",
    "        # print(ids_bfr)\n",
    "        for j in ids_bfr:\n",
    "            bfr = pd.DataFrame(get_data_from_url(url=url_prefix+'/profiles?&data='+var_d2+',pres&id='+j+'&presRange='+presRange,\\\n",
    "                                                 myAPIkey=myAPIkey,writeFlag=False))\n",
    "            \n",
    "            if 'bfr_df' in locals():\n",
    "                del bfr_df\n",
    "\n",
    "            for j_df in bfr['data']:\n",
    "                if not 'bfr_df' in locals():\n",
    "                    bfr_df = pd.DataFrame(j_df)\n",
    "                else:\n",
    "                    bfr_df = pd.concat([bfr_df,j_df],ignore_index=True)\n",
    "            if eval('var_d'+str(isource)) in bfr_df.keys():\n",
    "                bfr_df2plt = bfr_df[bfr_df.eval(eval('var_d'+str(isource))).notnull()]\n",
    "                plt.plot(bfr_df2plt[eval('var_d'+str(isource))],bfr_df2plt['pres'], \\\n",
    "                         marker=eval('mrk_type'+str(isource)),markersize=eval('mrk_sz'+str(isource)),color=eval('col_d'+str(isource)),linewidth=2)\n",
    "                if isource ==2:\n",
    "                    fig_close = False\n",
    "                if not 'bfr_title' in locals():\n",
    "                    bfr_title = j # eval('var_d'+str(isource))\n",
    "                else:\n",
    "                    bfr_title = bfr_title + ', ' + j #eval('var_d'+str(isource))\n",
    "    plt.gca().invert_yaxis()\n",
    "    plt.title(bfr_title)\n",
    "    plt.xlabel(set_ax_label(var_d1))\n",
    "    plt.ylabel(set_ax_label('pres'))\n",
    "    if fig_close:\n",
    "        plt.close(fig)"
   ]
  },
  {
   "cell_type": "raw",
   "metadata": {},
   "source": [
    "#a = pd.DataFrame(get_data_from_url(url=url_prefix+'/profiles?&id=2902118_155&data=all'))\n"
   ]
  },
  {
   "cell_type": "code",
   "execution_count": null,
   "metadata": {},
   "outputs": [],
   "source": [
    "woceline_all = ['160W', '40N', '75N', 'A01', 'A01E', 'A02', 'A05', 'A08', 'A09', 'A09.5', 'A095', 'A10', \\\n",
    "                'A11', 'A12', 'A13', 'A13.5', 'A14', 'A15/AR15', 'A16C', 'A16N', 'A16N/AR21', 'A16S', \\\n",
    "                'A17', 'A20', 'A21', 'A22', 'A23', 'A24', 'A9.5', 'AAIW05', 'ACT2010', 'AJAX', 'ANAS1', \\\n",
    "                'ANAS2', 'ANAS3', 'ANAS4', 'ANAS7', 'AO-01', 'AO94', 'AO95', 'AR01', 'AR02', 'AR03', 'AR04', \\\n",
    "                'AR04EW', 'AR07', 'AR07E', 'AR07E/AR25', 'AR07W', 'AR07W/AR13', 'AR08', 'AR09', 'AR10', 'AR11', \\\n",
    "                'AR12', 'AR13', 'AR15', 'AR16', 'AR18', 'AR19', 'AR21', 'AR24', 'AR25', 'AR28', 'ARK-II_3', \\\n",
    "                'ARK-IV_3', 'ARS01', 'ATAS1', 'AWS02I', 'Albatross', 'CBL', 'CLMD2', 'CLMD5', 'DIMES UK1', \\\n",
    "                'DIMES UK2', 'DIMES UK4', 'DIMES US1', 'DIMES US2', 'Drake Passage', 'HLY0201', 'I01E', \\\n",
    "                'I01W', 'I02', 'I02W', 'I03', 'I04/I05W/I07C', 'I05', 'I05P', 'I07', 'I07N', 'I09N', 'I10', \\\n",
    "                'IR01W', 'IR01W/IR03', 'IR03', 'IR04', 'IR06', 'ISS01', 'ISS02', 'ISS03', 'JOIS97', 'KESS', \\\n",
    "                'LINE-W', 'NACPWCC', 'ODEN91', 'OISO', 'OISO19', 'P01', 'P01C', 'P01E', 'P01H', 'P01W', 'P02', \\\n",
    "                'P02C', 'P02E', 'P02T', 'P02W/PR27', 'P03', 'P03W', 'P04C', 'P04E', 'P04W', 'P05', 'P06C', 'P06E', \\\n",
    "                'P06W', 'P08N', 'P08S', 'P09', 'P10', 'P11A', 'P11S', 'P12', 'P13', 'P13J', 'P14', 'P14C', 'P14N', \\\n",
    "                'P14S', 'P14S,P15S', 'P15N', 'P15N/PR06', 'P15S', 'P16', 'P16A/P17A', 'P16C', 'P16N', 'P16S', \\\n",
    "                'P16S/P17S', 'P17C', 'P17N', 'P19A', 'P19C', 'P21', 'P21E', 'P21W', 'P24', 'P31', 'P414', 'PR01', \\\n",
    "                'PR01S', 'PR02', 'PR03', 'PR03/PCM06', 'PR04', 'PR05/PR06', 'PR06', 'PR06/PRS01', 'PR11', \\\n",
    "                'PR11/PR13N', 'PR11/PR31', 'PR12', 'PR13N', 'PR14', 'PR15', 'PR16', 'PR17', 'PR18', 'PR19', \\\n",
    "                'PR20', 'PR21', 'PR23', 'PR23,PR24', 'PR23/PR24', 'PR24', 'PR27', 'PR32', 'PRS02', 'S04', \\\n",
    "                'S04I', 'S04P', 'S05', 'SAVE1', 'SAVE2', 'SAVE3', 'SAVE4', 'SBI', 'SR01', 'SR01B', 'SR02', \\\n",
    "                'SR02/SR04', 'SR03', 'SR04', 'SR1B', 'SR3S4', 'XP99']\n"
   ]
  },
  {
   "cell_type": "code",
   "execution_count": null,
   "metadata": {},
   "outputs": [],
   "source": [
    "# this needs to be rewritten as function\n",
    "#\n",
    "# now search by woceline and then check what Argo profiles are nearby (did not do this yet; it could be added to what is below... \n",
    "# once all the go-ship profiles are found, they could be grouped by woceline... for each group distinct instnaces could be identified...\n",
    "# for each instance (i.e. for each time the woceline was measured), we could do the co-location with Argo profiles (taking parts of code \n",
    "# from earlier to build the function)\n",
    "#woceline_all  = ['I07N', 'A10']\n",
    "woceline_all  = [''] # if '', woceline is not used in the url (instead of e.g. using the list above)\n",
    "source        = 'cchdo_go-ship'\n",
    "\n",
    "startDate = '1900-01-01T00:00:00Z'\n",
    "endDate   = '2022-03-01T00:00:00Z'\n",
    "\n",
    "datavars_all = [''] # if '', datavar is not used in the url\n",
    "\n",
    "fig = plt.figure(figsize=(20,10))\n",
    "set_up_map(set_extent_info=[-180, 180, -90, 90],central_long=180,delta_lonGrid=30,delta_latGrid=30,fnt_size=28)\n",
    "\n",
    "for iwoceline in woceline_all:\n",
    "    time.sleep(2)\n",
    "    if 'df_line' in locals():\n",
    "        del df_line\n",
    "        del info_df_line\n",
    "    for idatavars in datavars_all:\n",
    "        df = get_data_for_timeRange(startDate=startDate,endDate=endDate, \\\n",
    "                                        url_prefix=url_prefix+'/profiles?', \\\n",
    "                                        myAPIkey=myAPIkey, \\\n",
    "                                        data=idatavars, \\\n",
    "                                        source=source, \\\n",
    "                                        woceline=iwoceline, \\\n",
    "                                        dt_tag='365d',writeFlag=True)\n",
    "        if not df.empty:\n",
    "            if 'df_line' in locals():\n",
    "                df_line = pd.concat([df_line,df],ignore_index=True)\n",
    "            else:\n",
    "                df_line = df\n",
    "    if 'df_line' in locals():\n",
    "        # store some info\n",
    "        info_df_line = get_info_from_df(df=df_line,info_to_store=info_to_store)\n",
    "\n",
    "        plot_locations_withColor(lon=info_df_line['lon'],lat=info_df_line['lat'], \\\n",
    "                                         cols=info_df_line['cols_bySource'],markersz=5)"
   ]
  },
  {
   "cell_type": "code",
   "execution_count": null,
   "metadata": {},
   "outputs": [],
   "source": [
    "info_df_line = get_info_from_df(df=df_line,info_to_store=info_to_store)"
   ]
  },
  {
   "cell_type": "code",
   "execution_count": null,
   "metadata": {},
   "outputs": [],
   "source": [
    "set_map_and_plot_locations_withColor(lon=info_df_line['lon'],lat=info_df_line['lat'], \\\n",
    "                                     cols=info_df_line['cols_bySource'],markersz=5,delta_lonGrid=45,delta_latGrid=45)"
   ]
  },
  {
   "cell_type": "code",
   "execution_count": null,
   "metadata": {},
   "outputs": [],
   "source": [
    "#### for each of the points along a woce line, plot nearby Argo profiles"
   ]
  },
  {
   "cell_type": "code",
   "execution_count": null,
   "metadata": {},
   "outputs": [],
   "source": [
    "# dictOne = {\"Column A\":[1, 2],\"Column B\":[4, 5, 6],\"Column C\":[7]}\n",
    "# dictTwo = {\"Column A\":[1, 2],\"Column B\":[4, 5, 6],\"Column D\":[4, 5, 6,4, 5, 6]}\n",
    "# lst = [dictOne,dictTwo]\n",
    "# pd.DataFrame(lst)"
   ]
  },
  {
   "cell_type": "code",
   "execution_count": null,
   "metadata": {},
   "outputs": [],
   "source": [
    "# df_ALL = get_data_for_timeRange(startDate=startDate,endDate=endDate, \\\n",
    "#                                     url_prefix=url_prefix+'/profiles?', \\\n",
    "#                                     data=data, \\\n",
    "#                                     polygon=polygon,presRange='', \\\n",
    "#                                     dt_tag='10d',writeFlag=True)\n",
    "    \n",
    "# info_select_dict = get_info_from_df(df=df_ALL,info_to_store=info_to_store)\n",
    "# plot_locations_withColor(lon=info_select_dict['lon'],lat=info_select_dict['lat'], \\\n",
    "#                          cols=info_select_dict['cols_bySource'],dx=30,dy=30,central_long=-30, \\\n",
    "#                          markersz=10,fnt_size=28)"
   ]
  },
  {
   "cell_type": "markdown",
   "metadata": {},
   "source": [
    "## QC Filtering\n",
    "\n",
    "Argovis offers QC flags for data whenever available as elements in a profile's `data` array, but by default does not make any filtering decisions based on those flags. This example will show you how to filter your data by corresponding QC.\n",
    "\n",
    "See ref. table 2 in section 4.1 of http://www.argodatamgt.org/content/download/15699/102401/file/argo-quality-control-manual-version2.8.pdf for a description of Argo QC flag interpretations.\n",
    "\n",
    "First, let's get some data that has a couple of bad temperature measurements. Be sure to also ask for the QC variable `temp_argoqc` in your `data` query:"
   ]
  },
  {
   "cell_type": "code",
   "execution_count": null,
   "metadata": {},
   "outputs": [],
   "source": [
    "url = create_url(url_prefix+'/profiles?', profile_id='3900321_108', data='pres,temp,temp_argoqc')\n",
    "profile = get_data_from_url(url,myAPIkey)[0]"
   ]
  },
  {
   "cell_type": "markdown",
   "metadata": {},
   "source": [
    "Lets's see what this temperature profile looks like in a simple plot that colors points by QC level:"
   ]
  },
  {
   "cell_type": "code",
   "execution_count": null,
   "metadata": {},
   "outputs": [],
   "source": [
    "simple_plot(profile, 'temp', 'temp_argoqc')"
   ]
  },
  {
   "cell_type": "markdown",
   "metadata": {},
   "source": [
    "As noted, there are a couple of levels with QC > 1, which we might not want. Let's filter those off so we can be completely confident in the data we're using with another simple masking function, and then plot the result:"
   ]
  },
  {
   "cell_type": "code",
   "execution_count": null,
   "metadata": {},
   "outputs": [],
   "source": [
    "mp = mask_QC(profile, 'temp', 'temp_argoqc', 1)\n",
    "simple_plot(mp, 'temp', 'temp_argoqc')"
   ]
  },
  {
   "cell_type": "markdown",
   "metadata": {},
   "source": [
    "The offending levels have been suppressed, leaving us with only top-quality data. For the curious, have a look at the definition of `mask_QC`; an important design pattern illustrated there is that the function both takes and returns a dictionary that matches the JSON schema specification of an Argovis profile object; therefore, this function can be safely combined with other functions with a similar signature in a profile processing pipeline."
   ]
  },
  {
   "cell_type": "markdown",
   "metadata": {},
   "source": [
    "`mask_QC` provides fine-grained control of QC filtering one variable at a time, but we can also use the convenience function `qc` to quickly scrub all the data in a profile. As a prerequisite, we must request QC data to go with every data variable; Argo QC data for variable `x` is always found in `x_argoqc`, while CCHDO QC is marked `x_woceqc`."
   ]
  },
  {
   "cell_type": "code",
   "execution_count": null,
   "metadata": {},
   "outputs": [],
   "source": [
    "url = create_url(url_prefix+'/profiles?', profile_id='2902115_144', data='pres,pres_argoqc,chla,chla_argoqc,temp_sfile,temp_sfile_argoqc')\n",
    "profile = get_data_from_url(url,myAPIkey)[0]"
   ]
  },
  {
   "cell_type": "markdown",
   "metadata": {},
   "source": [
    "Let's have a look at the BGC temperature and chlorophyll as they appear without QC filtering:"
   ]
  },
  {
   "cell_type": "code",
   "execution_count": null,
   "metadata": {},
   "outputs": [],
   "source": [
    "simple_plot(profile, 'temp_sfile', 'temp_sfile_argoqc')"
   ]
  },
  {
   "cell_type": "code",
   "execution_count": null,
   "metadata": {},
   "outputs": [],
   "source": [
    "simple_plot(profile, 'chla', 'chla_argoqc')"
   ]
  },
  {
   "cell_type": "markdown",
   "metadata": {},
   "source": [
    "Apply the default cleaning to quickly tidy up, and replot:"
   ]
  },
  {
   "cell_type": "code",
   "execution_count": null,
   "metadata": {},
   "outputs": [],
   "source": [
    "cleaned = qc(profile)\n",
    "simple_plot(cleaned, 'temp_sfile', 'temp_sfile_argoqc')"
   ]
  },
  {
   "cell_type": "code",
   "execution_count": null,
   "metadata": {},
   "outputs": [],
   "source": [
    "simple_plot(cleaned, 'chla', 'chla_argoqc')"
   ]
  },
  {
   "cell_type": "markdown",
   "metadata": {},
   "source": [
    "This worked quickly and easily, but if we look again at the original plots of this profile, most of the flagged levels for BGC temperature are QC==8, which indicates interpolated, and not necessarily bad, data. We can provide our cleaning function with custom levels to keep more points if desired:"
   ]
  },
  {
   "cell_type": "code",
   "execution_count": null,
   "metadata": {},
   "outputs": [],
   "source": [
    "partially_cleaned = qc(profile,[('temp_sfile',8)])"
   ]
  },
  {
   "cell_type": "code",
   "execution_count": null,
   "metadata": {},
   "outputs": [],
   "source": [
    "simple_plot(partially_cleaned, 'temp_sfile', 'temp_sfile_argoqc')"
   ]
  },
  {
   "cell_type": "code",
   "execution_count": null,
   "metadata": {},
   "outputs": [],
   "source": [
    "simple_plot(partially_cleaned, 'chla', 'chla_argoqc')"
   ]
  },
  {
   "cell_type": "markdown",
   "metadata": {},
   "source": [
    "We get the interpolated temperature measurements, but none of the high-flag chlorophyll."
   ]
  },
  {
   "cell_type": "markdown",
   "metadata": {},
   "source": [
    "## Interpolation"
   ]
  },
  {
   "cell_type": "markdown",
   "metadata": {},
   "source": [
    "At times we may wish to interpolate data to a set of standard levels, rather than accept whatever pressure levels a profile presents. The convenience function `interpolate` performs this for us. Let's begin by fetching a profile as usual, and remember what its temperature plot looks like:"
   ]
  },
  {
   "cell_type": "code",
   "execution_count": null,
   "metadata": {},
   "outputs": [],
   "source": [
    "url = create_url(url_prefix+'/profiles?', profile_id='3900321_108', data='pres,temp,temp_argoqc')\n",
    "profile = get_data_from_url(url,myAPIkey)[0]\n",
    "simple_plot(profile, 'temp')"
   ]
  },
  {
   "cell_type": "markdown",
   "metadata": {},
   "source": [
    "Use the `interpolate` function to interpolate every data variable in the profile to a set of levels, every 100 meters from 0 to 2000:"
   ]
  },
  {
   "cell_type": "code",
   "execution_count": null,
   "metadata": {},
   "outputs": [],
   "source": [
    "interpolated_profile = interpolate(profile, list(range(0,2001))[0::100])\n",
    "simple_plot(interpolated_profile, 'temp')"
   ]
  },
  {
   "cell_type": "markdown",
   "metadata": {},
   "source": [
    "Note a few facts about interpolated profiles:\n",
    " - All QC information is dropped, as there is no meaningful way to interpolate QC flags. Therefore, it's best to do any QC cleaning you desire *before* interpolation.\n",
    " - profile.data_warnings will include the flag `data_interpolated` to indicate a profile's data has been interpolated in this fashion.\n",
    " - By default, pchip intepolation is performed.\n",
    " \n",
    "In addition to pchip, linear interpolation and nearest-neighbor are also available:"
   ]
  },
  {
   "cell_type": "code",
   "execution_count": null,
   "metadata": {},
   "outputs": [],
   "source": [
    "linear_interpolated_profile = interpolate(profile, list(range(0,2001))[0::100], method='linear')\n",
    "simple_plot(linear_interpolated_profile, 'temp')"
   ]
  },
  {
   "cell_type": "code",
   "execution_count": null,
   "metadata": {},
   "outputs": [],
   "source": [
    "nn_interpolated_profile = interpolate(profile, list(range(0,2001))[0::100], method='nearest')\n",
    "simple_plot(nn_interpolated_profile, 'temp')"
   ]
  },
  {
   "cell_type": "code",
   "execution_count": null,
   "metadata": {},
   "outputs": [],
   "source": []
  }
 ],
 "metadata": {
  "kernelspec": {
   "display_name": "py_NSF_EC2022",
   "language": "python",
   "name": "py_nsf_ec2022"
  },
  "language_info": {
   "codemirror_mode": {
    "name": "ipython",
    "version": 3
   },
   "file_extension": ".py",
   "mimetype": "text/x-python",
   "name": "python",
   "nbconvert_exporter": "python",
   "pygments_lexer": "ipython3",
   "version": "3.8.5"
  }
 },
 "nbformat": 4,
 "nbformat_minor": 4
}
